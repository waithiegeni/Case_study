{
 "cells": [
  {
   "cell_type": "markdown",
   "metadata": {},
   "source": [
    "# Entrepreneurial Ventures Data Analysis"
   ]
  },
  {
   "cell_type": "markdown",
   "metadata": {},
   "source": [
    "## Introduction"
   ]
  },
  {
   "cell_type": "markdown",
   "metadata": {},
   "source": [
    "This Case study contains anonymized data from a pre-program survey responses from entrepreneurs who applied to accelerators participating in the Global Accelerator Learning Initiative based out of Emory University.\n",
    "\n",
    "Our main objectives of the case study will be to analyze and visualize data to determine key insights that will be helpful for us to further undertand this data. Let's start by loading the data into our Notebook. We'll use pandas DataFrames to store this data. Let's also load our data visualization libraries matplotlib"
   ]
  },
  {
   "cell_type": "code",
   "execution_count": 149,
   "metadata": {},
   "outputs": [],
   "source": [
    "# Importing libraries\n",
    "\n",
    "import pandas as pd\n",
    "\n",
    "import matplotlib.pyplot as plt \n",
    "plt.style.use('ggplot')"
   ]
  },
  {
   "cell_type": "code",
   "execution_count": 150,
   "metadata": {},
   "outputs": [],
   "source": [
    "# reading in excel data\n",
    "\n",
    "all_ventures = pd.read_excel('~/Desktop/Entreprenuers.xlsx' ,encoding ='uft-8')"
   ]
  },
  {
   "cell_type": "code",
   "execution_count": 151,
   "metadata": {
    "scrolled": true
   },
   "outputs": [
    {
     "data": {
      "text/plain": [
       "(1856, 38)"
      ]
     },
     "execution_count": 151,
     "metadata": {},
     "output_type": "execute_result"
    }
   ],
   "source": [
    "# Ensure all the data has been imported\n",
    "\n",
    "all_ventures.shape"
   ]
  },
  {
   "cell_type": "code",
   "execution_count": 168,
   "metadata": {
    "scrolled": false
   },
   "outputs": [
    {
     "data": {
      "text/html": [
       "<div>\n",
       "<style scoped>\n",
       "    .dataframe tbody tr th:only-of-type {\n",
       "        vertical-align: middle;\n",
       "    }\n",
       "\n",
       "    .dataframe tbody tr th {\n",
       "        vertical-align: top;\n",
       "    }\n",
       "\n",
       "    .dataframe thead th {\n",
       "        text-align: right;\n",
       "    }\n",
       "</style>\n",
       "<table border=\"1\" class=\"dataframe\">\n",
       "  <thead>\n",
       "    <tr style=\"text-align: right;\">\n",
       "      <th></th>\n",
       "      <th>application_year</th>\n",
       "      <th>selected</th>\n",
       "      <th>showup</th>\n",
       "      <th>finished</th>\n",
       "      <th>info_has_website</th>\n",
       "      <th>info_founding_year</th>\n",
       "      <th>fins_revenues_m1</th>\n",
       "      <th>fins_revenues_sincefound</th>\n",
       "      <th>fins_ft_employees_m1</th>\n",
       "      <th>fins_pt_employees_m1</th>\n",
       "      <th>found_name1_present</th>\n",
       "      <th>found_name2_present</th>\n",
       "      <th>found_name3_present</th>\n",
       "      <th>found_additional_cnt</th>\n",
       "      <th>found_name1_age</th>\n",
       "      <th>found_name2_age</th>\n",
       "      <th>found_name3_age</th>\n",
       "      <th>Average Team Age</th>\n",
       "    </tr>\n",
       "  </thead>\n",
       "  <tbody>\n",
       "    <tr>\n",
       "      <th>count</th>\n",
       "      <td>1856.0</td>\n",
       "      <td>1034.0</td>\n",
       "      <td>1021.0</td>\n",
       "      <td>1828.0</td>\n",
       "      <td>1856.0</td>\n",
       "      <td>1848.0</td>\n",
       "      <td>1856.0</td>\n",
       "      <td>1.856000e+03</td>\n",
       "      <td>1856.0</td>\n",
       "      <td>1856.0</td>\n",
       "      <td>1855.0</td>\n",
       "      <td>1855.0</td>\n",
       "      <td>1855.0</td>\n",
       "      <td>1705.0</td>\n",
       "      <td>1815.0</td>\n",
       "      <td>1469.0</td>\n",
       "      <td>845.0</td>\n",
       "      <td>1815.0</td>\n",
       "    </tr>\n",
       "    <tr>\n",
       "      <th>mean</th>\n",
       "      <td>2015.0</td>\n",
       "      <td>0.0</td>\n",
       "      <td>0.0</td>\n",
       "      <td>0.0</td>\n",
       "      <td>1.0</td>\n",
       "      <td>2012.0</td>\n",
       "      <td>147508.0</td>\n",
       "      <td>2.157293e+06</td>\n",
       "      <td>8.0</td>\n",
       "      <td>6.0</td>\n",
       "      <td>1.0</td>\n",
       "      <td>1.0</td>\n",
       "      <td>0.0</td>\n",
       "      <td>1.0</td>\n",
       "      <td>36.0</td>\n",
       "      <td>36.0</td>\n",
       "      <td>35.0</td>\n",
       "      <td>36.0</td>\n",
       "    </tr>\n",
       "    <tr>\n",
       "      <th>std</th>\n",
       "      <td>1.0</td>\n",
       "      <td>0.0</td>\n",
       "      <td>0.0</td>\n",
       "      <td>0.0</td>\n",
       "      <td>0.0</td>\n",
       "      <td>4.0</td>\n",
       "      <td>723681.0</td>\n",
       "      <td>4.414106e+07</td>\n",
       "      <td>19.0</td>\n",
       "      <td>25.0</td>\n",
       "      <td>0.0</td>\n",
       "      <td>0.0</td>\n",
       "      <td>0.0</td>\n",
       "      <td>5.0</td>\n",
       "      <td>10.0</td>\n",
       "      <td>12.0</td>\n",
       "      <td>12.0</td>\n",
       "      <td>9.0</td>\n",
       "    </tr>\n",
       "    <tr>\n",
       "      <th>min</th>\n",
       "      <td>2014.0</td>\n",
       "      <td>0.0</td>\n",
       "      <td>0.0</td>\n",
       "      <td>0.0</td>\n",
       "      <td>0.0</td>\n",
       "      <td>1965.0</td>\n",
       "      <td>0.0</td>\n",
       "      <td>1.000000e+00</td>\n",
       "      <td>1.0</td>\n",
       "      <td>0.0</td>\n",
       "      <td>0.0</td>\n",
       "      <td>0.0</td>\n",
       "      <td>0.0</td>\n",
       "      <td>-3.0</td>\n",
       "      <td>1.0</td>\n",
       "      <td>1.0</td>\n",
       "      <td>1.0</td>\n",
       "      <td>19.0</td>\n",
       "    </tr>\n",
       "    <tr>\n",
       "      <th>25%</th>\n",
       "      <td>2015.0</td>\n",
       "      <td>0.0</td>\n",
       "      <td>0.0</td>\n",
       "      <td>0.0</td>\n",
       "      <td>0.0</td>\n",
       "      <td>2011.0</td>\n",
       "      <td>4000.0</td>\n",
       "      <td>7.000000e+03</td>\n",
       "      <td>2.0</td>\n",
       "      <td>0.0</td>\n",
       "      <td>1.0</td>\n",
       "      <td>1.0</td>\n",
       "      <td>0.0</td>\n",
       "      <td>0.0</td>\n",
       "      <td>29.0</td>\n",
       "      <td>28.0</td>\n",
       "      <td>27.0</td>\n",
       "      <td>29.0</td>\n",
       "    </tr>\n",
       "    <tr>\n",
       "      <th>50%</th>\n",
       "      <td>2016.0</td>\n",
       "      <td>0.0</td>\n",
       "      <td>0.0</td>\n",
       "      <td>0.0</td>\n",
       "      <td>1.0</td>\n",
       "      <td>2013.0</td>\n",
       "      <td>17400.0</td>\n",
       "      <td>4.000000e+04</td>\n",
       "      <td>4.0</td>\n",
       "      <td>2.0</td>\n",
       "      <td>1.0</td>\n",
       "      <td>1.0</td>\n",
       "      <td>0.0</td>\n",
       "      <td>0.0</td>\n",
       "      <td>33.0</td>\n",
       "      <td>33.0</td>\n",
       "      <td>32.0</td>\n",
       "      <td>34.0</td>\n",
       "    </tr>\n",
       "    <tr>\n",
       "      <th>75%</th>\n",
       "      <td>2016.0</td>\n",
       "      <td>0.0</td>\n",
       "      <td>0.0</td>\n",
       "      <td>0.0</td>\n",
       "      <td>1.0</td>\n",
       "      <td>2014.0</td>\n",
       "      <td>74687.0</td>\n",
       "      <td>1.913370e+05</td>\n",
       "      <td>7.0</td>\n",
       "      <td>5.0</td>\n",
       "      <td>1.0</td>\n",
       "      <td>1.0</td>\n",
       "      <td>1.0</td>\n",
       "      <td>1.0</td>\n",
       "      <td>40.0</td>\n",
       "      <td>42.0</td>\n",
       "      <td>41.0</td>\n",
       "      <td>41.0</td>\n",
       "    </tr>\n",
       "    <tr>\n",
       "      <th>max</th>\n",
       "      <td>2016.0</td>\n",
       "      <td>1.0</td>\n",
       "      <td>1.0</td>\n",
       "      <td>1.0</td>\n",
       "      <td>1.0</td>\n",
       "      <td>2016.0</td>\n",
       "      <td>18535363.0</td>\n",
       "      <td>1.659025e+09</td>\n",
       "      <td>400.0</td>\n",
       "      <td>500.0</td>\n",
       "      <td>1.0</td>\n",
       "      <td>1.0</td>\n",
       "      <td>1.0</td>\n",
       "      <td>150.0</td>\n",
       "      <td>85.0</td>\n",
       "      <td>82.0</td>\n",
       "      <td>78.0</td>\n",
       "      <td>85.0</td>\n",
       "    </tr>\n",
       "  </tbody>\n",
       "</table>\n",
       "</div>"
      ],
      "text/plain": [
       "       application_year  selected  showup  finished  info_has_website  \\\n",
       "count            1856.0    1034.0  1021.0    1828.0            1856.0   \n",
       "mean             2015.0       0.0     0.0       0.0               1.0   \n",
       "std                 1.0       0.0     0.0       0.0               0.0   \n",
       "min              2014.0       0.0     0.0       0.0               0.0   \n",
       "25%              2015.0       0.0     0.0       0.0               0.0   \n",
       "50%              2016.0       0.0     0.0       0.0               1.0   \n",
       "75%              2016.0       0.0     0.0       0.0               1.0   \n",
       "max              2016.0       1.0     1.0       1.0               1.0   \n",
       "\n",
       "       info_founding_year  fins_revenues_m1  fins_revenues_sincefound  \\\n",
       "count              1848.0            1856.0              1.856000e+03   \n",
       "mean               2012.0          147508.0              2.157293e+06   \n",
       "std                   4.0          723681.0              4.414106e+07   \n",
       "min                1965.0               0.0              1.000000e+00   \n",
       "25%                2011.0            4000.0              7.000000e+03   \n",
       "50%                2013.0           17400.0              4.000000e+04   \n",
       "75%                2014.0           74687.0              1.913370e+05   \n",
       "max                2016.0        18535363.0              1.659025e+09   \n",
       "\n",
       "       fins_ft_employees_m1  fins_pt_employees_m1  found_name1_present  \\\n",
       "count                1856.0                1856.0               1855.0   \n",
       "mean                    8.0                   6.0                  1.0   \n",
       "std                    19.0                  25.0                  0.0   \n",
       "min                     1.0                   0.0                  0.0   \n",
       "25%                     2.0                   0.0                  1.0   \n",
       "50%                     4.0                   2.0                  1.0   \n",
       "75%                     7.0                   5.0                  1.0   \n",
       "max                   400.0                 500.0                  1.0   \n",
       "\n",
       "       found_name2_present  found_name3_present  found_additional_cnt  \\\n",
       "count               1855.0               1855.0                1705.0   \n",
       "mean                   1.0                  0.0                   1.0   \n",
       "std                    0.0                  0.0                   5.0   \n",
       "min                    0.0                  0.0                  -3.0   \n",
       "25%                    1.0                  0.0                   0.0   \n",
       "50%                    1.0                  0.0                   0.0   \n",
       "75%                    1.0                  1.0                   1.0   \n",
       "max                    1.0                  1.0                 150.0   \n",
       "\n",
       "       found_name1_age  found_name2_age  found_name3_age  Average Team Age  \n",
       "count           1815.0           1469.0            845.0            1815.0  \n",
       "mean              36.0             36.0             35.0              36.0  \n",
       "std               10.0             12.0             12.0               9.0  \n",
       "min                1.0              1.0              1.0              19.0  \n",
       "25%               29.0             28.0             27.0              29.0  \n",
       "50%               33.0             33.0             32.0              34.0  \n",
       "75%               40.0             42.0             41.0              41.0  \n",
       "max               85.0             82.0             78.0              85.0  "
      ]
     },
     "execution_count": 168,
     "metadata": {},
     "output_type": "execute_result"
    }
   ],
   "source": [
    "# Doing descriptive statistics of the data\n",
    "\n",
    "all_ventures.describe().round()"
   ]
  },
  {
   "cell_type": "markdown",
   "metadata": {},
   "source": [
    "From this simple descriptive statistics of the data, some of the few takeaways we can quickly observe are:\n",
    "\n",
    "   1. The survey has been done over the course of 3 years (2014 -2016)\n",
    "   2. Our data has ventures founded as early as 1965 to 2016\n",
    "   3. The average age of the first founder is 35\n",
    "   \n",
    "What i would prefer to do now is get more informative insight of the data. So i'll start by determining the trend of the ventures over the three years"
   ]
  },
  {
   "cell_type": "code",
   "execution_count": 169,
   "metadata": {},
   "outputs": [
    {
     "data": {
      "text/html": [
       "<div>\n",
       "<style scoped>\n",
       "    .dataframe tbody tr th:only-of-type {\n",
       "        vertical-align: middle;\n",
       "    }\n",
       "\n",
       "    .dataframe tbody tr th {\n",
       "        vertical-align: top;\n",
       "    }\n",
       "\n",
       "    .dataframe thead th {\n",
       "        text-align: right;\n",
       "    }\n",
       "</style>\n",
       "<table border=\"1\" class=\"dataframe\">\n",
       "  <thead>\n",
       "    <tr style=\"text-align: right;\">\n",
       "      <th></th>\n",
       "      <th>application_year</th>\n",
       "      <th>info_venture_country</th>\n",
       "    </tr>\n",
       "  </thead>\n",
       "  <tbody>\n",
       "    <tr>\n",
       "      <th>0</th>\n",
       "      <td>2016</td>\n",
       "      <td>Rwanda</td>\n",
       "    </tr>\n",
       "    <tr>\n",
       "      <th>1</th>\n",
       "      <td>2015</td>\n",
       "      <td>Kenya</td>\n",
       "    </tr>\n",
       "    <tr>\n",
       "      <th>2</th>\n",
       "      <td>2014</td>\n",
       "      <td>India</td>\n",
       "    </tr>\n",
       "    <tr>\n",
       "      <th>3</th>\n",
       "      <td>2016</td>\n",
       "      <td>Mexico</td>\n",
       "    </tr>\n",
       "    <tr>\n",
       "      <th>4</th>\n",
       "      <td>2016</td>\n",
       "      <td>Rwanda</td>\n",
       "    </tr>\n",
       "  </tbody>\n",
       "</table>\n",
       "</div>"
      ],
      "text/plain": [
       "   application_year info_venture_country\n",
       "0              2016               Rwanda\n",
       "1              2015                Kenya\n",
       "2              2014                India\n",
       "3              2016               Mexico\n",
       "4              2016               Rwanda"
      ]
     },
     "execution_count": 169,
     "metadata": {},
     "output_type": "execute_result"
    }
   ],
   "source": [
    "# Select required columns from the dataset\n",
    "\n",
    "vent_countries =  all_ventures[['application_year', 'info_venture_country']]\n",
    "vent_countries.head()"
   ]
  },
  {
   "cell_type": "code",
   "execution_count": 170,
   "metadata": {},
   "outputs": [
    {
     "data": {
      "text/plain": [
       "application_year\n",
       "2014     309\n",
       "2015     496\n",
       "2016    1051\n",
       "Name: info_venture_country, dtype: int64"
      ]
     },
     "execution_count": 170,
     "metadata": {},
     "output_type": "execute_result"
    }
   ],
   "source": [
    "# Group by year \n",
    "\n",
    "vent_countries_grouped = vent_countries.groupby('application_year').info_venture_country.count()\n",
    "vent_countries_grouped"
   ]
  },
  {
   "cell_type": "code",
   "execution_count": 172,
   "metadata": {},
   "outputs": [
    {
     "data": {
      "image/png": "[encoded data removed]",
      "text/plain": [
       "<Figure size 432x288 with 1 Axes>"
      ]
     },
     "metadata": {},
     "output_type": "display_data"
    }
   ],
   "source": [
    "# Plotting the results\n",
    "\n",
    "vent_countries_grouped.plot(kind ='bar')\n",
    "plt.show()"
   ]
  },
  {
   "cell_type": "markdown",
   "metadata": {},
   "source": [
    "Not so surprising, we expected a gradual increase in ventures, in this era, it's easier for people to start ventures that solve problems due to the high rate of technology advancement. People have also become more independent and value the ability to control their work experiences. \n",
    "\n",
    "Now that we know this little bit of information, we can now answer a few questions."
   ]
  },
  {
   "cell_type": "markdown",
   "metadata": {},
   "source": [
    "### 1. What country has the most ventures?"
   ]
  },
  {
   "cell_type": "code",
   "execution_count": 196,
   "metadata": {},
   "outputs": [
    {
     "data": {
      "text/plain": [
       "info_venture_country\n",
       "United States of America       243\n",
       "Kenya                          225\n",
       "Mexico                         193\n",
       "Uganda                         171\n",
       "India                          156\n",
       "Nigeria                        121\n",
       "Colombia                        77\n",
       "Nicaragua                       62\n",
       "United Republic of Tanzania     48\n",
       "Chile                           44\n",
       "Name: application_year, dtype: int64"
      ]
     },
     "execution_count": 196,
     "metadata": {},
     "output_type": "execute_result"
    }
   ],
   "source": [
    "vent_countries_high = vent_countries.groupby('info_venture_country').application_year.count().sort_values(ascending = False)\n",
    "vent_countries_high.head(10)"
   ]
  },
  {
   "cell_type": "markdown",
   "metadata": {},
   "source": [
    "I honestly did not expect Kenya to be the second, but we need to remember that this data is based on who was able to take the survey."
   ]
  },
  {
   "cell_type": "markdown",
   "metadata": {},
   "source": [
    "### 2. Which sector is mostly ventured into?"
   ]
  },
  {
   "cell_type": "code",
   "execution_count": 157,
   "metadata": {},
   "outputs": [
    {
     "data": {
      "text/html": [
       "<div>\n",
       "<style scoped>\n",
       "    .dataframe tbody tr th:only-of-type {\n",
       "        vertical-align: middle;\n",
       "    }\n",
       "\n",
       "    .dataframe tbody tr th {\n",
       "        vertical-align: top;\n",
       "    }\n",
       "\n",
       "    .dataframe thead th {\n",
       "        text-align: right;\n",
       "    }\n",
       "</style>\n",
       "<table border=\"1\" class=\"dataframe\">\n",
       "  <thead>\n",
       "    <tr style=\"text-align: right;\">\n",
       "      <th></th>\n",
       "      <th>info_venture_country</th>\n",
       "      <th>info_sector</th>\n",
       "    </tr>\n",
       "  </thead>\n",
       "  <tbody>\n",
       "    <tr>\n",
       "      <th>0</th>\n",
       "      <td>Rwanda</td>\n",
       "      <td>Water</td>\n",
       "    </tr>\n",
       "    <tr>\n",
       "      <th>1</th>\n",
       "      <td>Kenya</td>\n",
       "      <td>Energy</td>\n",
       "    </tr>\n",
       "    <tr>\n",
       "      <th>2</th>\n",
       "      <td>India</td>\n",
       "      <td>Energy</td>\n",
       "    </tr>\n",
       "    <tr>\n",
       "      <th>3</th>\n",
       "      <td>Mexico</td>\n",
       "      <td>Health</td>\n",
       "    </tr>\n",
       "    <tr>\n",
       "      <th>4</th>\n",
       "      <td>Rwanda</td>\n",
       "      <td>Energy</td>\n",
       "    </tr>\n",
       "  </tbody>\n",
       "</table>\n",
       "</div>"
      ],
      "text/plain": [
       "  info_venture_country info_sector\n",
       "0               Rwanda       Water\n",
       "1                Kenya      Energy\n",
       "2                India      Energy\n",
       "3               Mexico      Health\n",
       "4               Rwanda      Energy"
      ]
     },
     "execution_count": 157,
     "metadata": {},
     "output_type": "execute_result"
    }
   ],
   "source": [
    "# Select required columns\n",
    "\n",
    "all_sectors = all_ventures [['info_venture_country' ,'info_sector']]\n",
    "all_sectors.head()"
   ]
  },
  {
   "cell_type": "code",
   "execution_count": 158,
   "metadata": {},
   "outputs": [],
   "source": [
    "all_sectors = all_sectors.groupby('info_sector').info_venture_country.count()\n"
   ]
  },
  {
   "cell_type": "code",
   "execution_count": 178,
   "metadata": {},
   "outputs": [
    {
     "data": {
      "image/png": "[encoded data removed]",
      "text/plain": [
       "<Figure size 432x288 with 1 Axes>"
      ]
     },
     "metadata": {},
     "output_type": "display_data"
    }
   ],
   "source": [
    "all_sectors.sort_values().plot(kind = 'barh')\n",
    "plt.show()"
   ]
  },
  {
   "cell_type": "markdown",
   "metadata": {},
   "source": [
    "It's worth noting that majority of the people tend to venture into the basic human needs space when starting a business, as we can see from the top 3 sectors, excluding \"Other\"."
   ]
  },
  {
   "cell_type": "markdown",
   "metadata": {},
   "source": [
    "### 3. Are most Ventures profitable?"
   ]
  },
  {
   "cell_type": "code",
   "execution_count": 177,
   "metadata": {},
   "outputs": [],
   "source": [
    "# select required columns\n",
    "\n",
    "profit_sector = all_ventures[['info_sector', 'fins_profit_m1']]\n"
   ]
  },
  {
   "cell_type": "code",
   "execution_count": 179,
   "metadata": {},
   "outputs": [
    {
     "data": {
      "image/png": "[encoded data removed]",
      "text/plain": [
       "<Figure size 432x288 with 1 Axes>"
      ]
     },
     "metadata": {},
     "output_type": "display_data"
    }
   ],
   "source": [
    "# Group and plot results\n",
    "\n",
    "profit_sector = profit_sector.groupby('fins_profit_m1').info_sector.count().sort_values().plot(kind = 'barh')\n",
    "plt.show()"
   ]
  },
  {
   "cell_type": "markdown",
   "metadata": {},
   "source": [
    "Unfortunately, most of the ventures have a negative return on investment. However, it's worth noting in our data that there has been an increase in ventures over the years and most ventures don't make a profit at least after 3 years. But let's confirm when most of the ventures were founded."
   ]
  },
  {
   "cell_type": "markdown",
   "metadata": {},
   "source": [
    "### 4. When were most ventures founded?"
   ]
  },
  {
   "cell_type": "code",
   "execution_count": 187,
   "metadata": {
    "scrolled": false
   },
   "outputs": [
    {
     "data": {
      "text/plain": [
       "info_founding_year\n",
       "2014.0    373\n",
       "2015.0    318\n",
       "2013.0    287\n",
       "2012.0    276\n",
       "2011.0    170\n",
       "2010.0    114\n",
       "2009.0     88\n",
       "2016.0     36\n",
       "2008.0     33\n",
       "2007.0     28\n",
       "Name: info_venture_country, dtype: int64"
      ]
     },
     "execution_count": 187,
     "metadata": {},
     "output_type": "execute_result"
    }
   ],
   "source": [
    "# Selecting required columns \n",
    "\n",
    "founded_year = all_ventures[['info_venture_country','info_founding_year']]\n",
    "\n",
    "founding_year = founded_year.groupby('info_founding_year').info_venture_country.count()\n",
    "founding_year.sort_values(ascending = False).head(10)"
   ]
  },
  {
   "cell_type": "code",
   "execution_count": 189,
   "metadata": {},
   "outputs": [
    {
     "data": {
      "image/png": "[encoded data removed]",
      "text/plain": [
       "<Figure size 432x288 with 1 Axes>"
      ]
     },
     "metadata": {},
     "output_type": "display_data"
    }
   ],
   "source": [
    "# Plotting the results\n",
    "\n",
    "founding_year.plot()\n",
    "plt.show()"
   ]
  },
  {
   "cell_type": "markdown",
   "metadata": {},
   "source": [
    "Well that gives us more clarity as to why there is a negative ROI"
   ]
  },
  {
   "cell_type": "markdown",
   "metadata": {},
   "source": [
    "### 5. Which Region has the highest number of ventures?"
   ]
  },
  {
   "cell_type": "code",
   "execution_count": 191,
   "metadata": {},
   "outputs": [
    {
     "data": {
      "image/png": "[encoded data removed]",
      "text/plain": [
       "<Figure size 432x288 with 1 Axes>"
      ]
     },
     "metadata": {},
     "output_type": "display_data"
    }
   ],
   "source": [
    "region_vent = all_ventures[['venture_region','info_venture_country']]\n",
    "\n",
    "region_vent = region_vent.groupby('venture_region').info_venture_country.count().sort_values(ascending = False)\n",
    "\n",
    "region_vent.sort_values().plot(kind = 'barh')\n",
    "plt.show()"
   ]
  },
  {
   "cell_type": "markdown",
   "metadata": {},
   "source": [
    "Based on our insights so far, it was expected to have Africa at the top. But why? In my opinion, entrepreneurship is deemed as a ‘necessity’ at a time of high employment. When unemployment is high and the economy is weaker, people are forced to start small businesses to provide for themselves and their families.\n",
    "\n",
    "Just one question left for our data."
   ]
  },
  {
   "cell_type": "markdown",
   "metadata": {},
   "source": [
    "### 6. What is the Gender of the Founders?"
   ]
  },
  {
   "cell_type": "code",
   "execution_count": 163,
   "metadata": {},
   "outputs": [
    {
     "data": {
      "text/plain": [
       "found_name1_gender\n",
       "F     468\n",
       "M    1364\n",
       "Name: info_venture_country, dtype: int64"
      ]
     },
     "execution_count": 163,
     "metadata": {},
     "output_type": "execute_result"
    }
   ],
   "source": [
    "# Select required columns\n",
    " \n",
    "founders_gender = all_ventures[['info_venture_country','found_name1_gender' ]]\n",
    "\n",
    "founders_gender = founders_gender.groupby('found_name1_gender').info_venture_country.count()\n",
    "founders_gender"
   ]
  },
  {
   "cell_type": "code",
   "execution_count": 194,
   "metadata": {
    "scrolled": false
   },
   "outputs": [
    {
     "data": {
      "image/png": "[encoded data removed]",
      "text/plain": [
       "<Figure size 432x288 with 1 Axes>"
      ]
     },
     "metadata": {},
     "output_type": "display_data"
    }
   ],
   "source": [
    "# Plotting the figures\n",
    "\n",
    "founders_gender.plot(kind = 'pie', autopct='%.0f%%')\n",
    "plt.legend()\n",
    "plt.show()"
   ]
  },
  {
   "cell_type": "markdown",
   "metadata": {},
   "source": [
    "Maybe it shouldn't come as a shock that there is some imbalance between how many male and female there are, but how significant is this imbalance? I'm hoping not to sound controversial, but in addition to cultural and societal factors, we noted in our brief descriptive statistics that the average age for most founders is 35. At this age, women are more drawn to stability in being mothers and over time, both risk and opportunity have limited women into being entrepreneurs."
   ]
  },
  {
   "cell_type": "markdown",
   "metadata": {},
   "source": [
    "## Conclusion\n",
    "\n",
    "The insights we've seen so far have been quite informative, though the biggest takeaway from this case study is that we need more data in order to make accurate insights, for example which countries are leading in ventures. It is highly unlikely Kenya (which was the second) is above a country like China. So one of the best ways in improving data collection would be to identify who will be reading these reports and what the most important information they will need is.Since information is different for each audience, it's important to identify what data they judge to be important. Also more questions about the entrepreneurs would be helpful. For example, \"How do they advertise their product/services?\" this will help us know which partical advertising tool is more effective based on profits and loss.\n",
    "\n",
    " "
   ]
  }
 ],
 "metadata": {
  "kernelspec": {
   "display_name": "Python 3",
   "language": "python",
   "name": "python3"
  },
  "language_info": {
   "codemirror_mode": {
    "name": "ipython",
    "version": 3
   },
   "file_extension": ".py",
   "mimetype": "text/x-python",
   "name": "python",
   "nbconvert_exporter": "python",
   "pygments_lexer": "ipython3",
   "version": "3.7.1"
  }
 },
 "nbformat": 4,
 "nbformat_minor": 2
}
