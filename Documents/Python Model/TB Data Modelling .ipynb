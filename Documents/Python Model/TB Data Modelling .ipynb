{
 "cells": [
  {
   "cell_type": "markdown",
   "metadata": {},
   "source": [
    "## TB Model Development"
   ]
  },
  {
   "cell_type": "markdown",
   "metadata": {},
   "source": [
    "In this notebook, we will develop several models that will predict the incurrence of TB using variables or features. This is just an estimate, but should give us an objective idea of how much the incurrence of TB is.\n",
    "\n",
    "We know that some of the good predictors of Incurrence of TB could be:\n",
    "<ul>\n",
    "    \n",
    "  <li>Population</li>\n",
    "    <li>Income Group/Class</li>\n",
    "    <li>Location/region</li>\n",
    "    <li>HIV</li>\n",
    "</ul>\n",
    "\n",
    "We will develop a model using these variables as the predictor variables."
   ]
  },
  {
   "cell_type": "markdown",
   "metadata": {},
   "source": [
    "By developing a model, it will help us understand the exact relationship between different variables and how these variables are used to predict the incurrence of TB"
   ]
  },
  {
   "cell_type": "markdown",
   "metadata": {},
   "source": [
    "Import Libraries"
   ]
  },
  {
   "cell_type": "code",
   "execution_count": 4,
   "metadata": {},
   "outputs": [],
   "source": [
    "import pandas as pd\n",
    "import numpy as np\n",
    "import matplotlib.pyplot as plt"
   ]
  },
  {
   "cell_type": "markdown",
   "metadata": {},
   "source": [
    "load data and store in dataframe all_tb:"
   ]
  },
  {
   "cell_type": "code",
   "execution_count": 23,
   "metadata": {},
   "outputs": [
    {
     "data": {
      "text/plain": [
       "(3850, 47)"
      ]
     },
     "execution_count": 23,
     "metadata": {},
     "output_type": "execute_result"
    }
   ],
   "source": [
    "all_tb = pd.read_csv('https://raw.githubusercontent.com/waithiegeni/python_analysis/master/TB_burden_countries_2019-01-11.csv', encoding = 'utf-8')\n",
    "all_tb.shape"
   ]
  },
  {
   "cell_type": "markdown",
   "metadata": {},
   "source": [
    "Our data for income group is in a seperate table, we will therefore need to load it and merge it to our TB data."
   ]
  },
  {
   "cell_type": "code",
   "execution_count": 6,
   "metadata": {},
   "outputs": [
    {
     "data": {
      "text/html": [
       "<div>\n",
       "<style scoped>\n",
       "    .dataframe tbody tr th:only-of-type {\n",
       "        vertical-align: middle;\n",
       "    }\n",
       "\n",
       "    .dataframe tbody tr th {\n",
       "        vertical-align: top;\n",
       "    }\n",
       "\n",
       "    .dataframe thead th {\n",
       "        text-align: right;\n",
       "    }\n",
       "</style>\n",
       "<table border=\"1\" class=\"dataframe\">\n",
       "  <thead>\n",
       "    <tr style=\"text-align: right;\">\n",
       "      <th></th>\n",
       "      <th>country</th>\n",
       "      <th>iso3</th>\n",
       "      <th>e_inc_num</th>\n",
       "      <th>e_pop_num</th>\n",
       "      <th>IncomeGroup</th>\n",
       "    </tr>\n",
       "  </thead>\n",
       "  <tbody>\n",
       "    <tr>\n",
       "      <th>0</th>\n",
       "      <td>Afghanistan</td>\n",
       "      <td>AFG</td>\n",
       "      <td>38000</td>\n",
       "      <td>20093756</td>\n",
       "      <td>Low income</td>\n",
       "    </tr>\n",
       "  </tbody>\n",
       "</table>\n",
       "</div>"
      ],
      "text/plain": [
       "       country iso3  e_inc_num  e_pop_num IncomeGroup\n",
       "0  Afghanistan  AFG      38000   20093756  Low income"
      ]
     },
     "execution_count": 6,
     "metadata": {},
     "output_type": "execute_result"
    }
   ],
   "source": [
    "gdp = pd.read_csv('~/Downloads/Income group to TB..csv', encoding = 'utf-8')\n",
    "gdp.head(1)"
   ]
  },
  {
   "cell_type": "code",
   "execution_count": 7,
   "metadata": {},
   "outputs": [
    {
     "data": {
      "text/html": [
       "<div>\n",
       "<style scoped>\n",
       "    .dataframe tbody tr th:only-of-type {\n",
       "        vertical-align: middle;\n",
       "    }\n",
       "\n",
       "    .dataframe tbody tr th {\n",
       "        vertical-align: top;\n",
       "    }\n",
       "\n",
       "    .dataframe thead th {\n",
       "        text-align: right;\n",
       "    }\n",
       "</style>\n",
       "<table border=\"1\" class=\"dataframe\">\n",
       "  <thead>\n",
       "    <tr style=\"text-align: right;\">\n",
       "      <th></th>\n",
       "      <th>country</th>\n",
       "      <th>g_whoregion</th>\n",
       "      <th>e_inc_num</th>\n",
       "      <th>iso3</th>\n",
       "      <th>e_pop_num</th>\n",
       "      <th>e_inc_tbhiv_num</th>\n",
       "    </tr>\n",
       "  </thead>\n",
       "  <tbody>\n",
       "    <tr>\n",
       "      <th>0</th>\n",
       "      <td>Afghanistan</td>\n",
       "      <td>EMR</td>\n",
       "      <td>38000</td>\n",
       "      <td>AFG</td>\n",
       "      <td>20093756</td>\n",
       "      <td>110.0</td>\n",
       "    </tr>\n",
       "  </tbody>\n",
       "</table>\n",
       "</div>"
      ],
      "text/plain": [
       "       country g_whoregion  e_inc_num iso3  e_pop_num  e_inc_tbhiv_num\n",
       "0  Afghanistan         EMR      38000  AFG   20093756            110.0"
      ]
     },
     "execution_count": 7,
     "metadata": {},
     "output_type": "execute_result"
    }
   ],
   "source": [
    "#select required columns \n",
    "all_tb = all_tb [['country', 'g_whoregion', 'e_inc_num','iso3', 'e_pop_num' ,'e_inc_tbhiv_num', ]]\n",
    "all_tb.head(1)"
   ]
  },
  {
   "cell_type": "code",
   "execution_count": 8,
   "metadata": {},
   "outputs": [
    {
     "data": {
      "text/html": [
       "<div>\n",
       "<style scoped>\n",
       "    .dataframe tbody tr th:only-of-type {\n",
       "        vertical-align: middle;\n",
       "    }\n",
       "\n",
       "    .dataframe tbody tr th {\n",
       "        vertical-align: top;\n",
       "    }\n",
       "\n",
       "    .dataframe thead th {\n",
       "        text-align: right;\n",
       "    }\n",
       "</style>\n",
       "<table border=\"1\" class=\"dataframe\">\n",
       "  <thead>\n",
       "    <tr style=\"text-align: right;\">\n",
       "      <th></th>\n",
       "      <th>country_x</th>\n",
       "      <th>g_whoregion</th>\n",
       "      <th>e_inc_num_x</th>\n",
       "      <th>iso3</th>\n",
       "      <th>e_pop_num_x</th>\n",
       "      <th>e_inc_tbhiv_num</th>\n",
       "      <th>country_y</th>\n",
       "      <th>e_inc_num_y</th>\n",
       "      <th>e_pop_num_y</th>\n",
       "      <th>IncomeGroup</th>\n",
       "    </tr>\n",
       "  </thead>\n",
       "  <tbody>\n",
       "    <tr>\n",
       "      <th>0</th>\n",
       "      <td>Afghanistan</td>\n",
       "      <td>EMR</td>\n",
       "      <td>38000</td>\n",
       "      <td>AFG</td>\n",
       "      <td>20093756</td>\n",
       "      <td>110.0</td>\n",
       "      <td>Afghanistan</td>\n",
       "      <td>38000</td>\n",
       "      <td>20093756</td>\n",
       "      <td>Low income</td>\n",
       "    </tr>\n",
       "    <tr>\n",
       "      <th>1</th>\n",
       "      <td>Afghanistan</td>\n",
       "      <td>EMR</td>\n",
       "      <td>40000</td>\n",
       "      <td>AFG</td>\n",
       "      <td>20966463</td>\n",
       "      <td>100.0</td>\n",
       "      <td>Afghanistan</td>\n",
       "      <td>38000</td>\n",
       "      <td>20093756</td>\n",
       "      <td>Low income</td>\n",
       "    </tr>\n",
       "  </tbody>\n",
       "</table>\n",
       "</div>"
      ],
      "text/plain": [
       "     country_x g_whoregion  e_inc_num_x iso3  e_pop_num_x  e_inc_tbhiv_num  \\\n",
       "0  Afghanistan         EMR        38000  AFG     20093756            110.0   \n",
       "1  Afghanistan         EMR        40000  AFG     20966463            100.0   \n",
       "\n",
       "     country_y  e_inc_num_y  e_pop_num_y IncomeGroup  \n",
       "0  Afghanistan        38000     20093756  Low income  \n",
       "1  Afghanistan        38000     20093756  Low income  "
      ]
     },
     "execution_count": 8,
     "metadata": {},
     "output_type": "execute_result"
    }
   ],
   "source": [
    "#merge both datasets\n",
    "merged_data = pd.merge(all_tb,gdp, on = ['iso3'])\n",
    "merged_data.head(2)"
   ]
  },
  {
   "cell_type": "code",
   "execution_count": 9,
   "metadata": {},
   "outputs": [
    {
     "data": {
      "text/plain": [
       "((3850, 6), (3719, 10))"
      ]
     },
     "execution_count": 9,
     "metadata": {},
     "output_type": "execute_result"
    }
   ],
   "source": [
    "all_tb.shape , merged_data.shape"
   ]
  },
  {
   "cell_type": "markdown",
   "metadata": {},
   "source": [
    "We can see that we have lost 131 rows of our data, let's find out which of the rows were not included during the merge"
   ]
  },
  {
   "cell_type": "code",
   "execution_count": 10,
   "metadata": {},
   "outputs": [
    {
     "data": {
      "text/plain": [
       "(131, 16)"
      ]
     },
     "execution_count": 10,
     "metadata": {},
     "output_type": "execute_result"
    }
   ],
   "source": [
    "not_included = pd.merge(all_tb, merged_data, on = ['iso3'], how = \"left\", indicator = True)\n",
    "\n",
    "not_included = not_included.loc[not_included[\"_merge\"] == \"left_only\"]\n",
    "not_included.shape"
   ]
  },
  {
   "cell_type": "code",
   "execution_count": 11,
   "metadata": {},
   "outputs": [
    {
     "data": {
      "text/html": [
       "<div>\n",
       "<style scoped>\n",
       "    .dataframe tbody tr th:only-of-type {\n",
       "        vertical-align: middle;\n",
       "    }\n",
       "\n",
       "    .dataframe tbody tr th {\n",
       "        vertical-align: top;\n",
       "    }\n",
       "\n",
       "    .dataframe thead th {\n",
       "        text-align: right;\n",
       "    }\n",
       "</style>\n",
       "<table border=\"1\" class=\"dataframe\">\n",
       "  <thead>\n",
       "    <tr style=\"text-align: right;\">\n",
       "      <th></th>\n",
       "      <th>country</th>\n",
       "      <th>g_whoregion_x</th>\n",
       "      <th>e_inc_num</th>\n",
       "      <th>iso3</th>\n",
       "      <th>e_pop_num</th>\n",
       "      <th>e_inc_tbhiv_num_x</th>\n",
       "      <th>country_x</th>\n",
       "      <th>g_whoregion_y</th>\n",
       "      <th>e_inc_num_x</th>\n",
       "      <th>e_pop_num_x</th>\n",
       "      <th>e_inc_tbhiv_num_y</th>\n",
       "      <th>country_y</th>\n",
       "      <th>e_inc_num_y</th>\n",
       "      <th>e_pop_num_y</th>\n",
       "      <th>IncomeGroup</th>\n",
       "      <th>_merge</th>\n",
       "    </tr>\n",
       "  </thead>\n",
       "  <tbody>\n",
       "    <tr>\n",
       "      <th>1944</th>\n",
       "      <td>Anguilla</td>\n",
       "      <td>AMR</td>\n",
       "      <td>2</td>\n",
       "      <td>AIA</td>\n",
       "      <td>11070</td>\n",
       "      <td>NaN</td>\n",
       "      <td>NaN</td>\n",
       "      <td>NaN</td>\n",
       "      <td>NaN</td>\n",
       "      <td>NaN</td>\n",
       "      <td>NaN</td>\n",
       "      <td>NaN</td>\n",
       "      <td>NaN</td>\n",
       "      <td>NaN</td>\n",
       "      <td>NaN</td>\n",
       "      <td>left_only</td>\n",
       "    </tr>\n",
       "    <tr>\n",
       "      <th>1945</th>\n",
       "      <td>Anguilla</td>\n",
       "      <td>AMR</td>\n",
       "      <td>3</td>\n",
       "      <td>AIA</td>\n",
       "      <td>11372</td>\n",
       "      <td>NaN</td>\n",
       "      <td>NaN</td>\n",
       "      <td>NaN</td>\n",
       "      <td>NaN</td>\n",
       "      <td>NaN</td>\n",
       "      <td>NaN</td>\n",
       "      <td>NaN</td>\n",
       "      <td>NaN</td>\n",
       "      <td>NaN</td>\n",
       "      <td>NaN</td>\n",
       "      <td>left_only</td>\n",
       "    </tr>\n",
       "    <tr>\n",
       "      <th>1946</th>\n",
       "      <td>Anguilla</td>\n",
       "      <td>AMR</td>\n",
       "      <td>3</td>\n",
       "      <td>AIA</td>\n",
       "      <td>11692</td>\n",
       "      <td>NaN</td>\n",
       "      <td>NaN</td>\n",
       "      <td>NaN</td>\n",
       "      <td>NaN</td>\n",
       "      <td>NaN</td>\n",
       "      <td>NaN</td>\n",
       "      <td>NaN</td>\n",
       "      <td>NaN</td>\n",
       "      <td>NaN</td>\n",
       "      <td>NaN</td>\n",
       "      <td>left_only</td>\n",
       "    </tr>\n",
       "    <tr>\n",
       "      <th>1947</th>\n",
       "      <td>Anguilla</td>\n",
       "      <td>AMR</td>\n",
       "      <td>3</td>\n",
       "      <td>AIA</td>\n",
       "      <td>12021</td>\n",
       "      <td>NaN</td>\n",
       "      <td>NaN</td>\n",
       "      <td>NaN</td>\n",
       "      <td>NaN</td>\n",
       "      <td>NaN</td>\n",
       "      <td>NaN</td>\n",
       "      <td>NaN</td>\n",
       "      <td>NaN</td>\n",
       "      <td>NaN</td>\n",
       "      <td>NaN</td>\n",
       "      <td>left_only</td>\n",
       "    </tr>\n",
       "    <tr>\n",
       "      <th>1948</th>\n",
       "      <td>Anguilla</td>\n",
       "      <td>AMR</td>\n",
       "      <td>3</td>\n",
       "      <td>AIA</td>\n",
       "      <td>12339</td>\n",
       "      <td>NaN</td>\n",
       "      <td>NaN</td>\n",
       "      <td>NaN</td>\n",
       "      <td>NaN</td>\n",
       "      <td>NaN</td>\n",
       "      <td>NaN</td>\n",
       "      <td>NaN</td>\n",
       "      <td>NaN</td>\n",
       "      <td>NaN</td>\n",
       "      <td>NaN</td>\n",
       "      <td>left_only</td>\n",
       "    </tr>\n",
       "  </tbody>\n",
       "</table>\n",
       "</div>"
      ],
      "text/plain": [
       "       country g_whoregion_x  e_inc_num iso3  e_pop_num  e_inc_tbhiv_num_x  \\\n",
       "1944  Anguilla           AMR          2  AIA      11070                NaN   \n",
       "1945  Anguilla           AMR          3  AIA      11372                NaN   \n",
       "1946  Anguilla           AMR          3  AIA      11692                NaN   \n",
       "1947  Anguilla           AMR          3  AIA      12021                NaN   \n",
       "1948  Anguilla           AMR          3  AIA      12339                NaN   \n",
       "\n",
       "     country_x g_whoregion_y  e_inc_num_x  e_pop_num_x  e_inc_tbhiv_num_y  \\\n",
       "1944       NaN           NaN          NaN          NaN                NaN   \n",
       "1945       NaN           NaN          NaN          NaN                NaN   \n",
       "1946       NaN           NaN          NaN          NaN                NaN   \n",
       "1947       NaN           NaN          NaN          NaN                NaN   \n",
       "1948       NaN           NaN          NaN          NaN                NaN   \n",
       "\n",
       "     country_y  e_inc_num_y  e_pop_num_y IncomeGroup     _merge  \n",
       "1944       NaN          NaN          NaN         NaN  left_only  \n",
       "1945       NaN          NaN          NaN         NaN  left_only  \n",
       "1946       NaN          NaN          NaN         NaN  left_only  \n",
       "1947       NaN          NaN          NaN         NaN  left_only  \n",
       "1948       NaN          NaN          NaN         NaN  left_only  "
      ]
     },
     "execution_count": 11,
     "metadata": {},
     "output_type": "execute_result"
    }
   ],
   "source": [
    "not_included.head()"
   ]
  },
  {
   "cell_type": "markdown",
   "metadata": {},
   "source": [
    "We can see that the data not included were countries not on the gdp data , let's include them back because they have significant data of our response variable and we will later on replace the missing data for the exploratory variables that are necessary."
   ]
  },
  {
   "cell_type": "code",
   "execution_count": 12,
   "metadata": {},
   "outputs": [],
   "source": [
    "#rename merged data columns\n",
    "merged_data.rename(columns = {'country_x': 'country' , 'e_inc_num_x' : 'tb' , 'e_pop_num_x' : 'population', 'g_whoregion' : 'region', 'e_inc_tbhiv_num' : 'hiv'  }, inplace = True)\n",
    "\n",
    "not_included.rename(columns = {'e_inc_num' : 'tb' , 'e_pop_num' : 'population', 'g_whoregion_x' : 'region'}, inplace = True)"
   ]
  },
  {
   "cell_type": "code",
   "execution_count": 13,
   "metadata": {},
   "outputs": [
    {
     "data": {
      "text/plain": [
       "(3850, 17)"
      ]
     },
     "execution_count": 13,
     "metadata": {},
     "output_type": "execute_result"
    }
   ],
   "source": [
    "#concatenate\n",
    "merge = pd.concat([merged_data, not_included], sort = True , ignore_index = True)\n",
    "merge.shape"
   ]
  },
  {
   "cell_type": "code",
   "execution_count": 14,
   "metadata": {},
   "outputs": [
    {
     "data": {
      "text/html": [
       "<div>\n",
       "<style scoped>\n",
       "    .dataframe tbody tr th:only-of-type {\n",
       "        vertical-align: middle;\n",
       "    }\n",
       "\n",
       "    .dataframe tbody tr th {\n",
       "        vertical-align: top;\n",
       "    }\n",
       "\n",
       "    .dataframe thead th {\n",
       "        text-align: right;\n",
       "    }\n",
       "</style>\n",
       "<table border=\"1\" class=\"dataframe\">\n",
       "  <thead>\n",
       "    <tr style=\"text-align: right;\">\n",
       "      <th></th>\n",
       "      <th>country</th>\n",
       "      <th>region</th>\n",
       "      <th>IncomeGroup</th>\n",
       "      <th>tb</th>\n",
       "      <th>hiv</th>\n",
       "      <th>population</th>\n",
       "    </tr>\n",
       "  </thead>\n",
       "  <tbody>\n",
       "    <tr>\n",
       "      <th>0</th>\n",
       "      <td>Afghanistan</td>\n",
       "      <td>EMR</td>\n",
       "      <td>Low income</td>\n",
       "      <td>38000</td>\n",
       "      <td>110.0</td>\n",
       "      <td>20093756</td>\n",
       "    </tr>\n",
       "    <tr>\n",
       "      <th>1</th>\n",
       "      <td>Afghanistan</td>\n",
       "      <td>EMR</td>\n",
       "      <td>Low income</td>\n",
       "      <td>40000</td>\n",
       "      <td>100.0</td>\n",
       "      <td>20966463</td>\n",
       "    </tr>\n",
       "  </tbody>\n",
       "</table>\n",
       "</div>"
      ],
      "text/plain": [
       "       country region IncomeGroup     tb    hiv  population\n",
       "0  Afghanistan    EMR  Low income  38000  110.0    20093756\n",
       "1  Afghanistan    EMR  Low income  40000  100.0    20966463"
      ]
     },
     "execution_count": 14,
     "metadata": {},
     "output_type": "execute_result"
    }
   ],
   "source": [
    "#select required columns\n",
    "tb =  merge[['country','region', 'IncomeGroup', 'tb', 'hiv', 'population']]\n",
    "tb.head(2)"
   ]
  },
  {
   "cell_type": "markdown",
   "metadata": {},
   "source": [
    "#### Evaluating for Missing Data"
   ]
  },
  {
   "cell_type": "code",
   "execution_count": 15,
   "metadata": {},
   "outputs": [
    {
     "name": "stdout",
     "output_type": "stream",
     "text": [
      "country\n",
      "False    3850\n",
      "Name: country, dtype: int64\n",
      "region\n",
      "False    3850\n",
      "Name: region, dtype: int64\n",
      "IncomeGroup\n",
      "False    3719\n",
      "True      131\n",
      "Name: IncomeGroup, dtype: int64\n",
      "tb\n",
      "False    3850\n",
      "Name: tb, dtype: int64\n",
      "hiv\n",
      "False    3513\n",
      "True      337\n",
      "Name: hiv, dtype: int64\n",
      "population\n",
      "False    3850\n",
      "Name: population, dtype: int64\n"
     ]
    }
   ],
   "source": [
    "#missing values\n",
    "\n",
    "missing_data = tb.isnull()\n",
    "\n",
    "for column in missing_data.columns.values.tolist():\n",
    "    print(column)\n",
    "    print (missing_data[column].value_counts())"
   ]
  },
  {
   "cell_type": "markdown",
   "metadata": {},
   "source": [
    "Based on the summary above, each column has 3850 rows of data, 2 columns contain missing data:\n",
    "<ol>\n",
    "    <li>\"IncomeGroup\" : 131 missing data</li>\n",
    "    <li>\"hiv\" : 337 missing data</li>\n",
    "   \n",
    "</ol>"
   ]
  },
  {
   "cell_type": "markdown",
   "metadata": {},
   "source": [
    "How will we deal with the missing data? We can either drop or replace the data. Whole columns should be dropped only if most entries in the column are empty. In our dataset, none of the columns are empty enough to drop entirely.\n",
    "We have some freedom in choosing which method to replace data, either by mean or mode;. however, some methods may seem more reasonable than others. We will apply each method to each column:\n",
    "\n",
    "###### Replace by Frequency:\n",
    "<ul>\n",
    "    <li>\"IncomeGroup\": 131 missing data, replace them with frequency</li>\n",
    "</ul>\n",
    "\n",
    "###### Replace by Mean:\n",
    "<ul>\n",
    "    <li>\"hiv\": 337 missing data, replace them with mean</li>"
   ]
  },
  {
   "cell_type": "code",
   "execution_count": 16,
   "metadata": {},
   "outputs": [
    {
     "data": {
      "text/plain": [
       "'High income'"
      ]
     },
     "execution_count": 16,
     "metadata": {},
     "output_type": "execute_result"
    }
   ],
   "source": [
    "#Calculate the highest frequency of the IncomeGroup:\n",
    "avg_inc = tb['IncomeGroup'].value_counts().idxmax()\n",
    "avg_inc"
   ]
  },
  {
   "cell_type": "code",
   "execution_count": 25,
   "metadata": {},
   "outputs": [],
   "source": [
    "#Replace \"NaN\" by \"High Income\"  in \"IncomeGroup\" column\n",
    "tb['IncomeGroup'].replace('nan', avg_inc, inplace=True)"
   ]
  },
  {
   "cell_type": "code",
   "execution_count": 18,
   "metadata": {},
   "outputs": [
    {
     "data": {
      "text/plain": [
       "6543.257614574438"
      ]
     },
     "execution_count": 18,
     "metadata": {},
     "output_type": "execute_result"
    }
   ],
   "source": [
    "#Calculate the mean of hiv:\n",
    "avg_hiv = tb['hiv'].mean(axis=0)\n",
    "avg_hiv"
   ]
  },
  {
   "cell_type": "code",
   "execution_count": 19,
   "metadata": {},
   "outputs": [],
   "source": [
    "#Replace \"NaN\" by mean in \"hiv\" column\n",
    "tb['hiv'].replace(np.nan, avg_hiv, inplace = True)"
   ]
  },
  {
   "cell_type": "markdown",
   "metadata": {},
   "source": [
    "counter check to see whether there are any missing values"
   ]
  },
  {
   "cell_type": "code",
   "execution_count": 20,
   "metadata": {},
   "outputs": [
    {
     "name": "stdout",
     "output_type": "stream",
     "text": [
      "country\n",
      "False    3850\n",
      "Name: country, dtype: int64\n",
      "region\n",
      "False    3850\n",
      "Name: region, dtype: int64\n",
      "IncomeGroup\n",
      "False    3719\n",
      "True      131\n",
      "Name: IncomeGroup, dtype: int64\n",
      "tb\n",
      "False    3850\n",
      "Name: tb, dtype: int64\n",
      "hiv\n",
      "False    3850\n",
      "Name: hiv, dtype: int64\n",
      "population\n",
      "False    3850\n",
      "Name: population, dtype: int64\n"
     ]
    }
   ],
   "source": [
    "#missing values\n",
    "missing_data = tb.isnull()\n",
    "\n",
    "for column in missing_data.columns.values.tolist():\n",
    "    print(column)\n",
    "    print (missing_data[column].value_counts())"
   ]
  },
  {
   "cell_type": "markdown",
   "metadata": {},
   "source": [
    "<b>Great!</b> The last step will be to check whether our data is in the correct format"
   ]
  },
  {
   "cell_type": "code",
   "execution_count": 21,
   "metadata": {},
   "outputs": [
    {
     "data": {
      "text/plain": [
       "country         object\n",
       "region          object\n",
       "IncomeGroup     object\n",
       "tb               int64\n",
       "hiv            float64\n",
       "population       int64\n",
       "dtype: object"
      ]
     },
     "execution_count": 21,
     "metadata": {},
     "output_type": "execute_result"
    }
   ],
   "source": [
    "tb.dtypes"
   ]
  },
  {
   "cell_type": "markdown",
   "metadata": {},
   "source": [
    "#### Let's find the scatterplot of \"population\" and \"Tb\"\n",
    "\n",
    "In order to start understanding the (linear) relationship between an individual variable and TB. We can do this by using \"regplot\", which plots the scatterplot plus the fitted regression line for the data."
   ]
  },
  {
   "cell_type": "code",
   "execution_count": 104,
   "metadata": {},
   "outputs": [
    {
     "data": {
      "image/png": "[encoded data removed]",
      "text/plain": [
       "<Figure size 432x288 with 1 Axes>"
      ]
     },
     "metadata": {
      "needs_background": "light"
     },
     "output_type": "display_data"
    }
   ],
   "source": [
    "#population as potential predictor variable of tb\n",
    "import seaborn as sns\n",
    "\n",
    "sns.regplot(x=\"population\", y=\"tb\", data=tb)\n",
    "plt.ylim(0,)\n",
    "plt.show()"
   ]
  },
  {
   "cell_type": "code",
   "execution_count": 108,
   "metadata": {},
   "outputs": [
    {
     "data": {
      "text/plain": [
       "(0.8413953198747588, 0.0)"
      ]
     },
     "execution_count": 108,
     "metadata": {},
     "output_type": "execute_result"
    }
   ],
   "source": [
    "#import stats\n",
    "from scipy import stats\n",
    "\n",
    "#correlation and p-value\n",
    "pearson_coef, p_value = stats.pearsonr(tb['population'], tb['tb'])\n",
    "pearson_coef,p_value"
   ]
  },
  {
   "cell_type": "markdown",
   "metadata": {},
   "source": [
    "While theres is a positive direct correlation between these two variables, the p_value = 0.0 , the The plot would make more sense if we grouped our figures by our exploratory variables Region and IncomeGroup"
   ]
  },
  {
   "cell_type": "code",
   "execution_count": 96,
   "metadata": {},
   "outputs": [
    {
     "data": {
      "text/html": [
       "<div>\n",
       "<style scoped>\n",
       "    .dataframe tbody tr th:only-of-type {\n",
       "        vertical-align: middle;\n",
       "    }\n",
       "\n",
       "    .dataframe tbody tr th {\n",
       "        vertical-align: top;\n",
       "    }\n",
       "\n",
       "    .dataframe thead th {\n",
       "        text-align: right;\n",
       "    }\n",
       "</style>\n",
       "<table border=\"1\" class=\"dataframe\">\n",
       "  <thead>\n",
       "    <tr style=\"text-align: right;\">\n",
       "      <th></th>\n",
       "      <th>region</th>\n",
       "      <th>tb</th>\n",
       "      <th>hiv</th>\n",
       "      <th>population</th>\n",
       "    </tr>\n",
       "  </thead>\n",
       "  <tbody>\n",
       "    <tr>\n",
       "      <th>0</th>\n",
       "      <td>AFR</td>\n",
       "      <td>54912.877844</td>\n",
       "      <td>20004.032335</td>\n",
       "      <td>1.803674e+07</td>\n",
       "    </tr>\n",
       "    <tr>\n",
       "      <th>1</th>\n",
       "      <td>AMR</td>\n",
       "      <td>6216.178218</td>\n",
       "      <td>1532.651295</td>\n",
       "      <td>2.056271e+07</td>\n",
       "    </tr>\n",
       "    <tr>\n",
       "      <th>2</th>\n",
       "      <td>EMR</td>\n",
       "      <td>31533.972222</td>\n",
       "      <td>304.113636</td>\n",
       "      <td>2.632330e+07</td>\n",
       "    </tr>\n",
       "    <tr>\n",
       "      <th>3</th>\n",
       "      <td>EUR</td>\n",
       "      <td>7158.814891</td>\n",
       "      <td>881.173564</td>\n",
       "      <td>1.661279e+07</td>\n",
       "    </tr>\n",
       "    <tr>\n",
       "      <th>4</th>\n",
       "      <td>SEA</td>\n",
       "      <td>430985.000000</td>\n",
       "      <td>23065.647959</td>\n",
       "      <td>1.632751e+08</td>\n",
       "    </tr>\n",
       "    <tr>\n",
       "      <th>5</th>\n",
       "      <td>WPR</td>\n",
       "      <td>55018.325617</td>\n",
       "      <td>2710.496502</td>\n",
       "      <td>5.008829e+07</td>\n",
       "    </tr>\n",
       "  </tbody>\n",
       "</table>\n",
       "</div>"
      ],
      "text/plain": [
       "  region             tb           hiv    population\n",
       "0    AFR   54912.877844  20004.032335  1.803674e+07\n",
       "1    AMR    6216.178218   1532.651295  2.056271e+07\n",
       "2    EMR   31533.972222    304.113636  2.632330e+07\n",
       "3    EUR    7158.814891    881.173564  1.661279e+07\n",
       "4    SEA  430985.000000  23065.647959  1.632751e+08\n",
       "5    WPR   55018.325617   2710.496502  5.008829e+07"
      ]
     },
     "execution_count": 96,
     "metadata": {},
     "output_type": "execute_result"
    }
   ],
   "source": [
    "#group by region\n",
    "tb_grouped = tb.groupby(['region'],as_index=False).mean()\n",
    "tb_grouped"
   ]
  },
  {
   "cell_type": "code",
   "execution_count": 97,
   "metadata": {},
   "outputs": [
    {
     "data": {
      "image/png": "[encoded data removed]",
      "text/plain": [
       "<Figure size 432x288 with 1 Axes>"
      ]
     },
     "metadata": {
      "needs_background": "light"
     },
     "output_type": "display_data"
    }
   ],
   "source": [
    "# Population as potential predictor variable of TB\n",
    "sns.regplot(x=\"population\", y=\"tb\", data=tb_grouped)\n",
    "plt.ylim(0,)\n",
    "plt.show()"
   ]
  },
  {
   "cell_type": "markdown",
   "metadata": {},
   "source": [
    "As the population goes up, TB goes up: this indicates a positive direct correlation between these two variables. Population seems like a pretty good predictor of TB since the regression line is almost a perfect diagonal line.\n",
    "\n",
    "We can examine the correlation and P-value between Population and TB. It is important to get p_value as well because correlation does not imply causation."
   ]
  },
  {
   "cell_type": "code",
   "execution_count": 111,
   "metadata": {},
   "outputs": [
    {
     "data": {
      "text/plain": [
       "(0.983923611549623, 0.00038559792497861654)"
      ]
     },
     "execution_count": 111,
     "metadata": {},
     "output_type": "execute_result"
    }
   ],
   "source": [
    "#correlation and p-value\n",
    "pearson_coef, p_value = stats.pearsonr(tb_grouped['population'], tb_grouped['tb'])\n",
    "pearson_coef,p_value"
   ]
  },
  {
   "cell_type": "markdown",
   "metadata": {},
   "source": [
    "#### Conclusion:\n",
    "\n",
    "Since the p-value is $<$ 0.001, the correlation between Population and Tb is statistically significant, and the linear relationship is extremely strong since 0.98 is close to 1. Therefore, population grouped by region is a good predicator of Tb if not the prefect predicator."
   ]
  },
  {
   "cell_type": "markdown",
   "metadata": {},
   "source": [
    "#### Let's find the scatterplot of \"hiv\" and \"Tb\""
   ]
  },
  {
   "cell_type": "code",
   "execution_count": 112,
   "metadata": {},
   "outputs": [
    {
     "data": {
      "image/png": "[encoded data removed]",
      "text/plain": [
       "<Figure size 432x288 with 1 Axes>"
      ]
     },
     "metadata": {
      "needs_background": "light"
     },
     "output_type": "display_data"
    }
   ],
   "source": [
    "# HIV as a potential predictor variable of TB\n",
    "sns.regplot(x=\"hiv\", y=\"tb\", data=tb_grouped)\n",
    "plt.ylim(0,)\n",
    "plt.show()"
   ]
  },
  {
   "cell_type": "code",
   "execution_count": 113,
   "metadata": {},
   "outputs": [
    {
     "data": {
      "text/plain": [
       "(0.7494901387858297, 0.08627238880879279)"
      ]
     },
     "execution_count": 113,
     "metadata": {},
     "output_type": "execute_result"
    }
   ],
   "source": [
    "#correlation and p-value\n",
    "pearson_coef, p_value = stats.pearsonr(tb_grouped['hiv'], tb_grouped['tb'])\n",
    "pearson_coef,p_value"
   ]
  },
  {
   "cell_type": "markdown",
   "metadata": {},
   "source": [
    "#### Conclusion:\n",
    "\n",
    "Since the p-value is $<$ 0.1 and $>$ 0.05 there is weak evidence that the correlation between hiv and tb is significant even though the linear relationship is a bit strong (0.749 is close to 1). HIV will not be good predicator of TB"
   ]
  },
  {
   "cell_type": "markdown",
   "metadata": {},
   "source": [
    "#### Let's find the scatterplot of \"population\" and \"Tb\" grouping by IncomeGroup"
   ]
  },
  {
   "cell_type": "code",
   "execution_count": 115,
   "metadata": {
    "scrolled": true
   },
   "outputs": [
    {
     "data": {
      "text/html": [
       "<div>\n",
       "<style scoped>\n",
       "    .dataframe tbody tr th:only-of-type {\n",
       "        vertical-align: middle;\n",
       "    }\n",
       "\n",
       "    .dataframe tbody tr th {\n",
       "        vertical-align: top;\n",
       "    }\n",
       "\n",
       "    .dataframe thead th {\n",
       "        text-align: right;\n",
       "    }\n",
       "</style>\n",
       "<table border=\"1\" class=\"dataframe\">\n",
       "  <thead>\n",
       "    <tr style=\"text-align: right;\">\n",
       "      <th></th>\n",
       "      <th>IncomeGroup</th>\n",
       "      <th>tb</th>\n",
       "      <th>hiv</th>\n",
       "      <th>population</th>\n",
       "    </tr>\n",
       "  </thead>\n",
       "  <tbody>\n",
       "    <tr>\n",
       "      <th>0</th>\n",
       "      <td>High income</td>\n",
       "      <td>2524.389490</td>\n",
       "      <td>886.515578</td>\n",
       "      <td>1.611928e+07</td>\n",
       "    </tr>\n",
       "    <tr>\n",
       "      <th>1</th>\n",
       "      <td>Low income</td>\n",
       "      <td>44560.299501</td>\n",
       "      <td>10921.745424</td>\n",
       "      <td>1.757557e+07</td>\n",
       "    </tr>\n",
       "    <tr>\n",
       "      <th>2</th>\n",
       "      <td>Lower middle income</td>\n",
       "      <td>146270.946731</td>\n",
       "      <td>12374.131522</td>\n",
       "      <td>5.724501e+07</td>\n",
       "    </tr>\n",
       "    <tr>\n",
       "      <th>3</th>\n",
       "      <td>Upper middle income</td>\n",
       "      <td>39598.697395</td>\n",
       "      <td>6415.052379</td>\n",
       "      <td>4.395249e+07</td>\n",
       "    </tr>\n",
       "  </tbody>\n",
       "</table>\n",
       "</div>"
      ],
      "text/plain": [
       "           IncomeGroup             tb           hiv    population\n",
       "0          High income    2524.389490    886.515578  1.611928e+07\n",
       "1           Low income   44560.299501  10921.745424  1.757557e+07\n",
       "2  Lower middle income  146270.946731  12374.131522  5.724501e+07\n",
       "3  Upper middle income   39598.697395   6415.052379  4.395249e+07"
      ]
     },
     "execution_count": 115,
     "metadata": {},
     "output_type": "execute_result"
    }
   ],
   "source": [
    "#grouping\n",
    "tb_grouped2 = tb.groupby(['IncomeGroup'],as_index=False).mean()\n",
    "tb_grouped2"
   ]
  },
  {
   "cell_type": "code",
   "execution_count": 116,
   "metadata": {},
   "outputs": [
    {
     "data": {
      "image/png": "[encoded data removed]",
      "text/plain": [
       "<Figure size 432x288 with 1 Axes>"
      ]
     },
     "metadata": {
      "needs_background": "light"
     },
     "output_type": "display_data"
    }
   ],
   "source": [
    "sns.regplot(x=\"population\", y=\"tb\", data=tb_grouped2)\n",
    "plt.ylim(0,)\n",
    "plt.show()"
   ]
  },
  {
   "cell_type": "code",
   "execution_count": 117,
   "metadata": {},
   "outputs": [
    {
     "data": {
      "text/plain": [
       "(0.8238693457429606, 0.1761306542570395)"
      ]
     },
     "execution_count": 117,
     "metadata": {},
     "output_type": "execute_result"
    }
   ],
   "source": [
    "#correlation and p-value\n",
    "pearson_coef, p_value = stats.pearsonr(tb_grouped2['population'], tb_grouped2['tb'])\n",
    "pearson_coef,p_value"
   ]
  },
  {
   "cell_type": "markdown",
   "metadata": {},
   "source": [
    "#### Conclusion:\n",
    "\n",
    "Since the p-value is $>$ 0.1 , there is no evidence that the correlation is significant, though the linear relationship is strong (0.823 close to 1) Population based on Income class is not a good predicator of Tb."
   ]
  },
  {
   "cell_type": "markdown",
   "metadata": {},
   "source": [
    "Now that we know that population and region have a stong correlation to TB we should expect ANOVA to return a sizeable F-test score and a small p-value for region."
   ]
  },
  {
   "cell_type": "markdown",
   "metadata": {},
   "source": [
    "### Anova Analysis"
   ]
  },
  {
   "cell_type": "code",
   "execution_count": null,
   "metadata": {},
   "outputs": [],
   "source": []
  }
 ],
 "metadata": {
  "kernelspec": {
   "display_name": "Python 3",
   "language": "python",
   "name": "python3"
  },
  "language_info": {
   "codemirror_mode": {
    "name": "ipython",
    "version": 3
   },
   "file_extension": ".py",
   "mimetype": "text/x-python",
   "name": "python",
   "nbconvert_exporter": "python",
   "pygments_lexer": "ipython3",
   "version": "3.7.1"
  }
 },
 "nbformat": 4,
 "nbformat_minor": 2
}
